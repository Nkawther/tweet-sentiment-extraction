{
 "cells": [
  {
   "cell_type": "markdown",
   "metadata": {},
   "source": [
    "# SVM"
   ]
  },
  {
   "cell_type": "code",
   "execution_count": 6,
   "metadata": {},
   "outputs": [],
   "source": [
    "\n",
    "import pandas as pd\n",
    "from nltk.tokenize import RegexpTokenizer\n",
    "from tqdm import tqdm\n",
    "from sklearn.model_selection import train_test_split\n",
    "from sklearn.feature_extraction.text import TfidfVectorizer\n",
    "from sklearn.metrics import confusion_matrix, classification_report\n",
    "from sklearn.svm import LinearSVC\n",
    "import re\n",
    "from sklearn.metrics import roc_curve, auc\n",
    "import matplotlib.pyplot as plt\n",
    "import seaborn as sns\n",
    "import numpy as np\n",
    "tqdm.pandas()\n",
    "\n"
   ]
  },
  {
   "cell_type": "markdown",
   "metadata": {},
   "source": [
    "## Step 1 : Load data_train, test, submission\n",
    "\n",
    "1. Read data (train, test and submission)\n",
    "2. Keep only (TextID, text and sentiment)\n",
    "3. Store sentiements (negative, positive and neutral)"
   ]
  },
  {
   "cell_type": "code",
   "execution_count": 7,
   "metadata": {},
   "outputs": [
    {
     "name": "stdout",
     "output_type": "stream",
     "text": [
      "           textID                                               text sentiment\n",
      "1      549e992a42      Sooo SAD I will miss you here in San Diego!!!  negative\n",
      "2      088c60f138                          my boss is bullying me...  negative\n",
      "3      9642c003ef                     what interview! leave me alone  negative\n",
      "4      358bd9e861   Sons of ****, why couldn`t they put them on t...  negative\n",
      "5      28b57f3990  http://www.dothebouncy.com/smf - some shameles...   neutral\n",
      "...           ...                                                ...       ...\n",
      "31010  e5f0e6ef4b  its at 3 am, im very tired but i can`t sleep  ...  negative\n",
      "31011  416863ce47  All alone in this old house again.  Thanks for...  positive\n",
      "31012  6332da480c   I know what you mean. My little dog is sinkin...  negative\n",
      "31013  df1baec676  _sutra what is your next youtube video gonna b...  positive\n",
      "31014  469e15c5a8   http://twitpic.com/4woj2 - omgssh  ang cute n...  positive\n",
      "\n",
      "[31014 rows x 3 columns]\n",
      "3 sentiments :  ['neutral' 'negative' 'positive']\n"
     ]
    }
   ],
   "source": [
    "data_train = pd.read_csv('data/train.csv').fillna('')\n",
    "data_test = pd.read_csv('data/test.csv').fillna('')\n",
    "submission = pd.read_csv('data/sample_submission.csv')\n",
    "\n",
    "df_list = [data_train[['textID', 'text', 'sentiment']], data_test]\n",
    "df_list = pd.concat(df_list, ignore_index=True)\n",
    "print(df_list[1:])\n",
    "\n",
    "sentiments = df_list['sentiment'].unique()\n",
    "print(\"3 sentiments : \", sentiments)\n"
   ]
  },
  {
   "cell_type": "markdown",
   "metadata": {},
   "source": [
    "# ..."
   ]
  },
  {
   "cell_type": "markdown",
   "metadata": {},
   "source": [
    "## Clean data\n",
    "\n",
    "1. clean data\n",
    "2. tokenize"
   ]
  },
  {
   "cell_type": "code",
   "execution_count": 8,
   "metadata": {},
   "outputs": [],
   "source": [
    "import string\n",
    "punctuations_list = string.punctuation\n",
    "\n",
    "def clean_data(text):\n",
    "    # remove links\n",
    "    text = re.sub(r'http[s]?://\\S+|www\\.\\S+', '', text)\n",
    "    # remove words that have numbers\n",
    "    text = re.sub(r'\\w*\\d\\w*', '', text)\n",
    "    # remove numbers\n",
    "    text = re.sub(r'\\d+', '', text)\n",
    "    # remove HTML tags\n",
    "    text = re.sub(r'<.*?>', \"\", text)\n",
    "    # remove HTML tags\n",
    "    text = re.sub(r'<.*?>', \"\", text)\n",
    "    # remove ponctuation\n",
    "    translator = str.maketrans('', '', punctuations_list)\n",
    "    return text.translate(translator)\n",
    "\n",
    "df_list['text'] = df_list['text'].str.lower()\n",
    "df_list['text'] = list(clean_data(x) for x in df_list['text'])\n",
    "\n",
    "# tokenizer = RegexpTokenizer(r'\\w+')\n",
    "# df_list['text'] =df_list['text'].apply(tokenizer.tokenize)\n",
    "# print(df_list['text'])\n"
   ]
  },
  {
   "cell_type": "markdown",
   "metadata": {},
   "source": [
    "## Remonving Stop Word"
   ]
  },
  {
   "cell_type": "code",
   "execution_count": 9,
   "metadata": {},
   "outputs": [],
   "source": [
    "\n",
    "file = open('data/stop-words_english_2_en.txt').read()\n",
    "stopwords =  set(file[3:].split(\"\\n\"))\n",
    "\n",
    "def cleaning_stopwords(text):\n",
    "    return \" \".join([word for word in str(text).split() if word not in stopwords])\n",
    "    \n",
    "df_list['text'] = df_list['text'].apply(lambda text: cleaning_stopwords(text))"
   ]
  },
  {
   "cell_type": "markdown",
   "metadata": {},
   "source": [
    "## Convert sentiment \n",
    "\n",
    "Positive -> 1 /\n",
    "Negative -> -1 /\n",
    "Neutral -> 0 "
   ]
  },
  {
   "cell_type": "code",
   "execution_count": 10,
   "metadata": {},
   "outputs": [
    {
     "name": "stdout",
     "output_type": "stream",
     "text": [
      "0        0\n",
      "1       -1\n",
      "2       -1\n",
      "3       -1\n",
      "4       -1\n",
      "        ..\n",
      "31010   -1\n",
      "31011    1\n",
      "31012   -1\n",
      "31013    1\n",
      "31014    1\n",
      "Name: sentiment, Length: 31015, dtype: int64\n"
     ]
    }
   ],
   "source": [
    "def sentiment2target(sentiment):\n",
    "    return {\n",
    "        'negative': -1,\n",
    "        'neutral': 0,\n",
    "        'positive' : 1\n",
    "    }[sentiment]\n",
    "df_list['sentiment'] = df_list['sentiment'].apply(sentiment2target)\n",
    "print(df_list['sentiment'])"
   ]
  },
  {
   "cell_type": "markdown",
   "metadata": {},
   "source": [
    "## Vactorizing the data\n",
    "\n",
    "1. Split our data into train and test\n",
    "2. Transforme data using idf and df vetorse"
   ]
  },
  {
   "cell_type": "code",
   "execution_count": 11,
   "metadata": {},
   "outputs": [
    {
     "name": "stderr",
     "output_type": "stream",
     "text": [
      "C:\\Users\\kawte\\AppData\\Local\\Programs\\Python\\Python39\\lib\\site-packages\\sklearn\\utils\\deprecation.py:87: FutureWarning: Function get_feature_names is deprecated; get_feature_names is deprecated in 1.0 and will be removed in 1.2. Please use get_feature_names_out instead.\n",
      "  warnings.warn(msg, category=FutureWarning)\n"
     ]
    },
    {
     "name": "stdout",
     "output_type": "stream",
     "text": [
      "No. of feature_words:  166686\n"
     ]
    }
   ],
   "source": [
    "X_train, X_test, y_train, y_test = train_test_split(df_list['text'], df_list['sentiment'], test_size = 0.05, random_state =26105111)\n",
    "\n",
    "vectoriser = TfidfVectorizer(ngram_range=(1,2), max_features=500000)\n",
    "vectoriser.fit(iter(X_train))\n",
    "print('No. of feature_words: ', len(vectoriser.get_feature_names()))\n",
    "\n",
    "X_train = vectoriser.transform(X_train)\n",
    "X_test  = vectoriser.transform(X_test)\n",
    "\n",
    "# data_train_index = X_train[:,0]\n",
    "# data_train = X_train[:,1:]\n",
    "# data_test_index = X_test[:,0]\n",
    "# data_test = X_test[:,1:]\n"
   ]
  },
  {
   "cell_type": "markdown",
   "metadata": {},
   "source": [
    " # Linear SVM classifier\n",
    "\n",
    "1. On remarque que notre modèle est très performant, les scores trouvés pour la (neg, pos et neutral) sont equilibré. \n",
    "La précision globale du modèle est de 69%. La performance du modèle est exemplaire.\n",
    "\n",
    "2. La figure ci-dessous montre une matrice de confusion pour le modèle SVM ROS. Les valeurs sont très elevés.\n",
    "Le modèle reconnait plus de modèle positives"
   ]
  },
  {
   "cell_type": "code",
   "execution_count": 12,
   "metadata": {},
   "outputs": [
    {
     "name": "stdout",
     "output_type": "stream",
     "text": [
      "              precision    recall  f1-score   support\n",
      "\n",
      "          -1       0.65      0.62      0.64       426\n",
      "           0       0.65      0.66      0.66       647\n",
      "           1       0.73      0.75      0.74       478\n",
      "\n",
      "    accuracy                           0.68      1551\n",
      "   macro avg       0.68      0.68      0.68      1551\n",
      "weighted avg       0.68      0.68      0.68      1551\n",
      "\n"
     ]
    },
    {
     "data": {
      "image/png": "[encoded data removed]",
      "text/plain": [
       "<Figure size 432x288 with 2 Axes>"
      ]
     },
     "metadata": {
      "needs_background": "light"
     },
     "output_type": "display_data"
    }
   ],
   "source": [
    "# Model evaluation\n",
    "\n",
    "def model_Evaluate(model):\n",
    "    # Predict values for Test dataset\n",
    "    y_pred = model.predict(X_test)\n",
    "    # Print the evaluation metrics for the dataset.\n",
    "    print(classification_report(y_test, y_pred))\n",
    "    # Compute and plot the Confusion matrix\n",
    "    cf_matrix = confusion_matrix(y_test, y_pred)\n",
    "    categories = ['Negative', 'Positive', 'Neutral']\n",
    "    group_names = ['True Neg','False Pos', 'False Neu', 'False Neg', 'True Pos', 'True Neu']\n",
    "    group_percentages = ['{0:.2%}'.format(value) for value in cf_matrix.flatten() / np.sum(cf_matrix)]\n",
    "    labels = [f'{v1}n{v2}' for v1, v2 in zip(group_names,group_percentages)]\n",
    "    sns.heatmap(cf_matrix, annot = True, cmap = 'Blues',fmt = '',\n",
    "    xticklabels = categories, yticklabels = categories)\n",
    "    plt.xlabel(\"Predicted values\", fontdict = {'size':14}, labelpad = 10)\n",
    "    plt.ylabel(\"Actual values\" , fontdict = {'size':14}, labelpad = 10)\n",
    "    plt.title (\"Confusion Matrix\", fontdict = {'size':18}, pad = 20)\n",
    "\n",
    "\n",
    "SVCmodel = LinearSVC()\n",
    "SVCmodel.fit(X_train, y_train)\n",
    "model_Evaluate(SVCmodel)\n",
    "y_pred2 = SVCmodel.predict(X_test)\n"
   ]
  },
  {
   "cell_type": "markdown",
   "metadata": {},
   "source": [
    "## Curve (ROC AUC)"
   ]
  },
  {
   "cell_type": "code",
   "execution_count": null,
   "metadata": {},
   "outputs": [],
   "source": [
    "fpr, tpr, thresholds = roc_curve(y_test, y_pred2)\n",
    "\n",
    "roc_auc = auc(fpr, tpr)\n",
    "\n",
    "plt.figure()\n",
    "plt.plot(fpr, tpr, color='darkorange', lw=1, label='ROC curve (area = %0.2f)' % roc_auc)\n",
    "plt.xlim([0.0, 1.0])\n",
    "plt.ylim([0.0, 1.05])\n",
    "plt.xlabel('False Positive Rate')\n",
    "plt.ylabel('True Positive Rate')\n",
    "plt.title('ROC CURVE')\n",
    "plt.legend(loc=\"lower right\")\n",
    "plt.show()"
   ]
  },
  {
   "cell_type": "markdown",
   "metadata": {},
   "source": [
    "## Why ? \n",
    "\n",
    "Confusion Matrix allows us to measure Recall, Precision,\n",
    "\n",
    "Accuracy and AUC-ROC curve are the metrics to measure the performance of the model."
   ]
  },
  {
   "cell_type": "markdown",
   "metadata": {},
   "source": []
  }
 ],
 "metadata": {
  "interpreter": {
   "hash": "8f60401c24b65e25f99de044e80a290e30b03a2cc35e1b7fca2c9d4120454142"
  },
  "kernelspec": {
   "display_name": "Python 3.9.7 64-bit",
   "language": "python",
   "name": "python3"
  },
  "language_info": {
   "codemirror_mode": {
    "name": "ipython",
    "version": 3
   },
   "file_extension": ".py",
   "mimetype": "text/x-python",
   "name": "python",
   "nbconvert_exporter": "python",
   "pygments_lexer": "ipython3",
   "version": "3.9.7"
  },
  "orig_nbformat": 4
 },
 "nbformat": 4,
 "nbformat_minor": 2
}
